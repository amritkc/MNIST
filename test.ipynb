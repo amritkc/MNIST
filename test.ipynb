{
 "cells": [
  {
   "cell_type": "code",
   "execution_count": 6,
   "id": "f4a873af-7d0b-409d-8324-84f680fecb27",
   "metadata": {},
   "outputs": [],
   "source": [
    "import tensorflow as tf "
   ]
  },
  {
   "cell_type": "code",
   "execution_count": 7,
   "id": "14e04020-7766-418d-a26b-cd05fcdf4b24",
   "metadata": {},
   "outputs": [],
   "source": [
    "mnist = tf.keras.datasets.mnist ##this is handwritten dataset"
   ]
  },
  {
   "cell_type": "code",
   "execution_count": 9,
   "id": "e6dbe9b4-ebeb-4a9e-a32f-95babd708a3e",
   "metadata": {},
   "outputs": [],
   "source": [
    "(x_train, y_train),(x_test, y_test) = mnist.load_data()"
   ]
  },
  {
   "cell_type": "code",
   "execution_count": 19,
   "id": "98373a12-a41f-4526-b6d7-367d2c2c7b12",
   "metadata": {},
   "outputs": [],
   "source": [
    "import matplotlib.pyplot as plt ## import the matplotlib \n",
    "#plt.imshow(x_train[0])\n",
    "#plt.show()\n",
    "#plt.imshow(x_train[0], cmap=plt.cm.binary)"
   ]
  },
  {
   "cell_type": "code",
   "execution_count": 21,
   "id": "7a44f8d6-feb8-4043-8fb5-dbcd1bc6089d",
   "metadata": {},
   "outputs": [],
   "source": [
    "# print (x_train[0]"
   ]
  },
  {
   "cell_type": "code",
   "execution_count": 29,
   "id": "5d3acdb0-5809-4228-91c3-f4db3b06ec27",
   "metadata": {},
   "outputs": [],
   "source": [
    "##we have to normolize the data\n",
    "x_train = tf.keras.utils.normalize(x_train, axis=1)\n",
    "x_test = tf.keras.utils.normalize(x_test, axis=1)\n",
    "\n",
    "# Display the first image in the training set\n",
    "# plt.imshow(x_train[0], cmap=plt.cm.binary)\n",
    "# plt.show()"
   ]
  },
  {
   "cell_type": "code",
   "execution_count": 32,
   "id": "49b519ba-7e6a-459f-9670-0c7c7b530f0e",
   "metadata": {},
   "outputs": [],
   "source": [
    "# print (x_train[0]) # it is necessary to normalize the data "
   ]
  },
  {
   "cell_type": "code",
   "execution_count": 41,
   "id": "32bd7cd9-ec42-45ed-acd0-8319e66adb13",
   "metadata": {},
   "outputs": [
    {
     "name": "stdout",
     "output_type": "stream",
     "text": [
      "Traning Sample Dimension (60000, 28, 28, 1)\n",
      "Testing Sample Diamension (10000, 28, 28, 1)\n"
     ]
    }
   ],
   "source": [
    "import numpy as np \n",
    "IMG_SIZE = 28\n",
    "x_trainr = np.array(x_train).reshape(-1, IMG_SIZE, IMG_SIZE, 1)\n",
    "x_testr = np.array(x_test).reshape(-1, IMG_SIZE, IMG_SIZE, 1)\n",
    "print (\"Traning Sample Dimension\", x_trainr.shape)\n",
    "print (\"Testing Sample Diamension\", x_testr.shape)\n"
   ]
  },
  {
   "cell_type": "code",
   "execution_count": 43,
   "id": "cce348af-0352-4f28-9801-86b321d07221",
   "metadata": {},
   "outputs": [],
   "source": [
    "from tensorflow.keras.models import Sequential\n",
    "from tensorflow.keras.layers import Dense, Dropout, Activation, Flatten, Conv2D, MaxPooling2D"
   ]
  },
  {
   "cell_type": "code",
   "execution_count": 56,
   "id": "4968a76e-dbcb-4df4-ab7a-80e74f86e106",
   "metadata": {},
   "outputs": [],
   "source": [
    "#Creating Neural Network\n",
    "model = Sequential()\n",
    "\n",
    "## Creating Convention Layers\n",
    "model.add(Conv2D(64, (3,3), input_shape=x_trainr.shape[1:]))\n",
    "model.add(Activation(\"relu\"))\n",
    "model.add(MaxPooling2D(pool_size=(2, 2)))\n",
    "\n",
    "##creating 2 convolution layer          \n",
    "model.add(Conv2D(64, (3,3)))\n",
    "model.add(Activation(\"relu\"))\n",
    "model.add(MaxPooling2D(pool_size=(2, 2)))\n",
    "\n",
    "\n",
    "##creating 3 convolution layer        \n",
    "model.add(Conv2D(64, (3,3)))\n",
    "model.add(Activation(\"relu\"))\n",
    "model.add(MaxPooling2D(pool_size=(2, 2)))     \n",
    "\n",
    "\n",
    "model.add(Flatten())\n",
    "model.add(Dense(64))\n",
    "model.add(Activation(\"relu\"))\n",
    "\n",
    "\n",
    "model.add(Dense(32))\n",
    "model.add(Activation(\"relu\"))\n",
    "\n",
    "\n",
    "model.add(Dense(10))\n",
    "model.add(Activation(\"softmax\"))\n"
   ]
  },
  {
   "cell_type": "code",
   "execution_count": 60,
   "id": "abe1618d-bcb3-48ba-9d50-367f7a727279",
   "metadata": {},
   "outputs": [],
   "source": [
    "# model.summary()"
   ]
  },
  {
   "cell_type": "code",
   "execution_count": 62,
   "id": "8d63d3b4-abad-4af7-8233-82b11152f8f6",
   "metadata": {},
   "outputs": [
    {
     "name": "stdout",
     "output_type": "stream",
     "text": [
      "Total Traning Samples 60000\n"
     ]
    }
   ],
   "source": [
    "print (\"Total Traning Samples\", len(x_trainr))"
   ]
  },
  {
   "cell_type": "code",
   "execution_count": 67,
   "id": "7c056ff3-b24f-4507-b952-ad3512d04b77",
   "metadata": {},
   "outputs": [],
   "source": [
    "model.compile(loss=\"sparse_categorical_crossentropy\", optimizer=\"adam\", metrics=[\"accuracy\"])"
   ]
  },
  {
   "cell_type": "code",
   "execution_count": 68,
   "id": "56f3d638-e185-4c08-9c29-7785bf73361c",
   "metadata": {},
   "outputs": [
    {
     "name": "stdout",
     "output_type": "stream",
     "text": [
      "Epoch 1/5\n",
      "\u001b[1m1313/1313\u001b[0m \u001b[32m━━━━━━━━━━━━━━━━━━━━\u001b[0m\u001b[37m\u001b[0m \u001b[1m29s\u001b[0m 20ms/step - accuracy: 0.7786 - loss: 0.7024 - val_accuracy: 0.9357 - val_loss: 0.2055\n",
      "Epoch 2/5\n",
      "\u001b[1m1313/1313\u001b[0m \u001b[32m━━━━━━━━━━━━━━━━━━━━\u001b[0m\u001b[37m\u001b[0m \u001b[1m27s\u001b[0m 21ms/step - accuracy: 0.9661 - loss: 0.1101 - val_accuracy: 0.9683 - val_loss: 0.1080\n",
      "Epoch 3/5\n",
      "\u001b[1m1313/1313\u001b[0m \u001b[32m━━━━━━━━━━━━━━━━━━━━\u001b[0m\u001b[37m\u001b[0m \u001b[1m23s\u001b[0m 18ms/step - accuracy: 0.9756 - loss: 0.0789 - val_accuracy: 0.9769 - val_loss: 0.0746\n",
      "Epoch 4/5\n",
      "\u001b[1m1313/1313\u001b[0m \u001b[32m━━━━━━━━━━━━━━━━━━━━\u001b[0m\u001b[37m\u001b[0m \u001b[1m24s\u001b[0m 18ms/step - accuracy: 0.9809 - loss: 0.0639 - val_accuracy: 0.9762 - val_loss: 0.0816\n",
      "Epoch 5/5\n",
      "\u001b[1m1313/1313\u001b[0m \u001b[32m━━━━━━━━━━━━━━━━━━━━\u001b[0m\u001b[37m\u001b[0m \u001b[1m23s\u001b[0m 18ms/step - accuracy: 0.9856 - loss: 0.0441 - val_accuracy: 0.9791 - val_loss: 0.0702\n"
     ]
    },
    {
     "data": {
      "text/plain": [
       "<keras.src.callbacks.history.History at 0x1e74838c910>"
      ]
     },
     "execution_count": 68,
     "metadata": {},
     "output_type": "execute_result"
    }
   ],
   "source": [
    "model.fit(x_trainr, y_train, epochs=5, validation_split=0.3)\n"
   ]
  },
  {
   "cell_type": "code",
   "execution_count": 69,
   "id": "a4f4e9d2-44dc-4525-a306-8035d30ffaf3",
   "metadata": {},
   "outputs": [
    {
     "name": "stdout",
     "output_type": "stream",
     "text": [
      "\u001b[1m313/313\u001b[0m \u001b[32m━━━━━━━━━━━━━━━━━━━━\u001b[0m\u001b[37m\u001b[0m \u001b[1m2s\u001b[0m 7ms/step - accuracy: 0.9767 - loss: 0.0816\n",
      "test loss on 1000 samples 0.065073162317276\n",
      "validation accuracy on 10,000 test sample 0.9815999865531921\n"
     ]
    }
   ],
   "source": [
    "test_loss, test_acc = model.evaluate(x_testr, y_test) #eveluationg the test samples\n",
    "print(\"test loss on 1000 samples\", test_loss)\n",
    "print(\"validation accuracy on 10,000 test sample\", test_acc)"
   ]
  },
  {
   "cell_type": "code",
   "execution_count": 70,
   "id": "5d78a4d5-4626-4878-aabe-ed7ecc2ab994",
   "metadata": {},
   "outputs": [
    {
     "name": "stdout",
     "output_type": "stream",
     "text": [
      "\u001b[1m313/313\u001b[0m \u001b[32m━━━━━━━━━━━━━━━━━━━━\u001b[0m\u001b[37m\u001b[0m \u001b[1m3s\u001b[0m 8ms/step\n"
     ]
    }
   ],
   "source": [
    "prediction = model.predict([x_testr])"
   ]
  },
  {
   "cell_type": "code",
   "execution_count": 71,
   "id": "654986da-2d91-47a8-b2f3-f88498305767",
   "metadata": {},
   "outputs": [
    {
     "name": "stdout",
     "output_type": "stream",
     "text": [
      "[[6.8885043e-08 3.0236569e-04 2.9128834e-05 ... 9.9964607e-01\n",
      "  7.5768066e-06 3.7153605e-08]\n",
      " [1.3853608e-04 1.3882996e-04 9.9960786e-01 ... 2.6057158e-05\n",
      "  2.7969490e-05 5.4660100e-06]\n",
      " [6.3913086e-07 9.9997532e-01 1.7894805e-06 ... 4.1485741e-06\n",
      "  1.5012149e-06 1.6676634e-07]\n",
      " ...\n",
      " [4.5832076e-09 8.3554295e-07 2.9569593e-08 ... 1.4891918e-07\n",
      "  3.2980299e-07 2.1051853e-06]\n",
      " [1.8645797e-04 2.3740092e-06 2.2266126e-07 ... 4.4368326e-06\n",
      "  1.6341900e-04 6.6775319e-06]\n",
      " [2.7128719e-05 8.1284547e-08 7.3460524e-06 ... 5.7034502e-08\n",
      "  2.9677369e-06 3.1884622e-06]]\n"
     ]
    }
   ],
   "source": [
    "print (prediction)"
   ]
  },
  {
   "cell_type": "code",
   "execution_count": 76,
   "id": "4a0589d3-ad7b-4f11-9133-c64e78978d9e",
   "metadata": {},
   "outputs": [
    {
     "name": "stdout",
     "output_type": "stream",
     "text": [
      "1\n"
     ]
    }
   ],
   "source": [
    "print (np.argmax(prediction[228]))"
   ]
  },
  {
   "cell_type": "code",
   "execution_count": 77,
   "id": "904845ac-5c45-41c1-9c39-99852d184ebe",
   "metadata": {},
   "outputs": [
    {
     "data": {
      "text/plain": [
       "<matplotlib.image.AxesImage at 0x1e753fcafd0>"
      ]
     },
     "execution_count": 77,
     "metadata": {},
     "output_type": "execute_result"
    },
    {
     "data": {
      "image/png": "[encoded data removed]",
      "text/plain": [
       "<Figure size 640x480 with 1 Axes>"
      ]
     },
     "metadata": {},
     "output_type": "display_data"
    }
   ],
   "source": [
    "plt.imshow(x_test[228])"
   ]
  },
  {
   "cell_type": "code",
   "execution_count": 78,
   "id": "c6862b5c-178a-446c-af04-0ccfc7e8eb82",
   "metadata": {},
   "outputs": [],
   "source": [
    "import cv2"
   ]
  },
  {
   "cell_type": "code",
   "execution_count": 80,
   "id": "311fe45d-7ceb-46ee-bcf1-f180fcb2ecd4",
   "metadata": {},
   "outputs": [],
   "source": [
    "img = cv2.imread('test.png')"
   ]
  },
  {
   "cell_type": "code",
   "execution_count": 81,
   "id": "8ff616e1-fcb8-4292-96a6-2cef89d2cbcc",
   "metadata": {},
   "outputs": [
    {
     "data": {
      "text/plain": [
       "<matplotlib.image.AxesImage at 0x1e75546b090>"
      ]
     },
     "execution_count": 81,
     "metadata": {},
     "output_type": "execute_result"
    },
    {
     "data": {
      "image/png": "[encoded data removed]",
      "text/plain": [
       "<Figure size 640x480 with 1 Axes>"
      ]
     },
     "metadata": {},
     "output_type": "display_data"
    }
   ],
   "source": [
    "plt.imshow(img)"
   ]
  },
  {
   "cell_type": "code",
   "execution_count": 82,
   "id": "6c78e046-943f-4b6e-8b4a-195ac5fd5e3f",
   "metadata": {},
   "outputs": [
    {
     "data": {
      "text/plain": [
       "(28, 28, 3)"
      ]
     },
     "execution_count": 82,
     "metadata": {},
     "output_type": "execute_result"
    }
   ],
   "source": [
    "img.shape"
   ]
  },
  {
   "cell_type": "code",
   "execution_count": 83,
   "id": "8427d398-66be-454b-a26d-af79f877c15d",
   "metadata": {},
   "outputs": [],
   "source": [
    "gray = cv2.cvtColor(img, cv2.COLOR_BGR2GRAY)"
   ]
  },
  {
   "cell_type": "code",
   "execution_count": 84,
   "id": "b796e291-50fe-4f2e-9749-e4c1f9bc8f04",
   "metadata": {},
   "outputs": [
    {
     "data": {
      "text/plain": [
       "(28, 28)"
      ]
     },
     "execution_count": 84,
     "metadata": {},
     "output_type": "execute_result"
    }
   ],
   "source": [
    "gray.shape"
   ]
  },
  {
   "cell_type": "code",
   "execution_count": 86,
   "id": "cb2be6b0-93dc-4f76-90bb-4cf84990c27a",
   "metadata": {},
   "outputs": [],
   "source": [
    "newimg = tf.keras.utils.normalize(gray, axis=1)"
   ]
  },
  {
   "cell_type": "code",
   "execution_count": 87,
   "id": "086ea880-07f1-49c6-8626-f9a902470774",
   "metadata": {},
   "outputs": [],
   "source": [
    "newimg = np.array(newimg).reshape(-1, IMG_SIZE,IMG_SIZE,1)"
   ]
  },
  {
   "cell_type": "code",
   "execution_count": 88,
   "id": "5d8a4bac-a871-41a0-9900-64054e5ef2b4",
   "metadata": {},
   "outputs": [
    {
     "data": {
      "text/plain": [
       "(1, 28, 28, 1)"
      ]
     },
     "execution_count": 88,
     "metadata": {},
     "output_type": "execute_result"
    }
   ],
   "source": [
    "newimg.shape"
   ]
  },
  {
   "cell_type": "code",
   "execution_count": 89,
   "id": "c303b718-6891-46bb-ad42-8d588b0b1308",
   "metadata": {},
   "outputs": [
    {
     "name": "stdout",
     "output_type": "stream",
     "text": [
      "\u001b[1m1/1\u001b[0m \u001b[32m━━━━━━━━━━━━━━━━━━━━\u001b[0m\u001b[37m\u001b[0m \u001b[1m0s\u001b[0m 237ms/step\n"
     ]
    }
   ],
   "source": [
    "predictions = model.predict(newimg) "
   ]
  },
  {
   "cell_type": "code",
   "execution_count": 93,
   "id": "190700af-b2d7-41b9-ab8f-6cd0eb6cc7d2",
   "metadata": {},
   "outputs": [
    {
     "name": "stdout",
     "output_type": "stream",
     "text": [
      "8\n"
     ]
    }
   ],
   "source": [
    "print (np.argmax(predictions))"
   ]
  },
  {
   "cell_type": "code",
   "execution_count": null,
   "id": "046649c0-8121-4bda-80fa-de3a66973ef0",
   "metadata": {},
   "outputs": [],
   "source": []
  }
 ],
 "metadata": {
  "kernelspec": {
   "display_name": "Python 3 (ipykernel)",
   "language": "python",
   "name": "python3"
  },
  "language_info": {
   "codemirror_mode": {
    "name": "ipython",
    "version": 3
   },
   "file_extension": ".py",
   "mimetype": "text/x-python",
   "name": "python",
   "nbconvert_exporter": "python",
   "pygments_lexer": "ipython3",
   "version": "3.11.7"
  }
 },
 "nbformat": 4,
 "nbformat_minor": 5
}
