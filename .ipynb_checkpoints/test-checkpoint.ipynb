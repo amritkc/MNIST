{
 "cells": [
  {
   "cell_type": "code",
   "execution_count": 6,
   "id": "f4a873af-7d0b-409d-8324-84f680fecb27",
   "metadata": {},
   "outputs": [],
   "source": [
    "import tensorflow as tf "
   ]
  },
  {
   "cell_type": "code",
   "execution_count": 7,
   "id": "14e04020-7766-418d-a26b-cd05fcdf4b24",
   "metadata": {},
   "outputs": [],
   "source": [
    "mnist = tf.keras.datasets.mnist ##this is handwritten dataset"
   ]
  },
  {
   "cell_type": "code",
   "execution_count": 9,
   "id": "e6dbe9b4-ebeb-4a9e-a32f-95babd708a3e",
   "metadata": {},
   "outputs": [],
   "source": [
    "(x_train, y_train),(x_test, y_test) = mnist.load_data()"
   ]
  },
  {
   "cell_type": "code",
   "execution_count": 19,
   "id": "98373a12-a41f-4526-b6d7-367d2c2c7b12",
   "metadata": {},
   "outputs": [],
   "source": [
    "import matplotlib.pyplot as plt ## import the matplotlib \n",
    "#plt.imshow(x_train[0])\n",
    "#plt.show()\n",
    "#plt.imshow(x_train[0], cmap=plt.cm.binary)"
   ]
  },
  {
   "cell_type": "code",
   "execution_count": 21,
   "id": "7a44f8d6-feb8-4043-8fb5-dbcd1bc6089d",
   "metadata": {},
   "outputs": [],
   "source": [
    "# print (x_train[0]"
   ]
  },
  {
   "cell_type": "code",
   "execution_count": 29,
   "id": "5d3acdb0-5809-4228-91c3-f4db3b06ec27",
   "metadata": {},
   "outputs": [],
   "source": [
    "##we have to normolize the data\n",
    "x_train = tf.keras.utils.normalize(x_train, axis=1)\n",
    "x_test = tf.keras.utils.normalize(x_test, axis=1)\n",
    "\n",
    "# Display the first image in the training set\n",
    "# plt.imshow(x_train[0], cmap=plt.cm.binary)\n",
    "# plt.show()"
   ]
  },
  {
   "cell_type": "code",
   "execution_count": 32,
   "id": "49b519ba-7e6a-459f-9670-0c7c7b530f0e",
   "metadata": {},
   "outputs": [],
   "source": [
    "# print (x_train[0]) # it is necessary to normalize the data "
   ]
  },
  {
   "cell_type": "code",
   "execution_count": 41,
   "id": "32bd7cd9-ec42-45ed-acd0-8319e66adb13",
   "metadata": {},
   "outputs": [
    {
     "name": "stdout",
     "output_type": "stream",
     "text": [
      "Traning Sample Dimension (60000, 28, 28, 1)\n",
      "Testing Sample Diamension (10000, 28, 28, 1)\n"
     ]
    }
   ],
   "source": [
    "import numpy as np \n",
    "IMG_SIZE = 28\n",
    "x_trainr = np.array(x_train).reshape(-1, IMG_SIZE, IMG_SIZE, 1)\n",
    "x_testr = np.array(x_test).reshape(-1, IMG_SIZE, IMG_SIZE, 1)\n",
    "print (\"Traning Sample Dimension\", x_trainr.shape)\n",
    "print (\"Testing Sample Diamension\", x_testr.shape)\n"
   ]
  },
  {
   "cell_type": "code",
   "execution_count": 43,
   "id": "cce348af-0352-4f28-9801-86b321d07221",
   "metadata": {},
   "outputs": [],
   "source": [
    "from tensorflow.keras.models import Sequential\n",
    "from tensorflow.keras.layers import Dense, Dropout, Activation, Flatten, Conv2D, MaxPooling2D"
   ]
  },
  {
   "cell_type": "code",
   "execution_count": 44,
   "id": "4968a76e-dbcb-4df4-ab7a-80e74f86e106",
   "metadata": {},
   "outputs": [
    {
     "ename": "SyntaxError",
     "evalue": "invalid syntax. Perhaps you forgot a comma? (1901928720.py, line 7)",
     "output_type": "error",
     "traceback": [
      "\u001b[1;36m  Cell \u001b[1;32mIn[44], line 7\u001b[1;36m\u001b[0m\n\u001b[1;33m    model.add(MaxPooling2D(pool_size(2,2))\u001b[0m\n\u001b[1;37m              ^\u001b[0m\n\u001b[1;31mSyntaxError\u001b[0m\u001b[1;31m:\u001b[0m invalid syntax. Perhaps you forgot a comma?\n"
     ]
    }
   ],
   "source": [
    "#Creating Neural Network\n",
    "model = Sequential\n",
    "\n",
    "## Creating Convention Layers\n",
    "modal.add(Conv2D(64, (3,3), imput_shape=x_trainr.shape[1:]))\n",
    "modal.add(Activation(\"relu\"))\n",
    "model.add(MaxPooling2D(pool_size(2,2))\n",
    "\n",
    "##creating 2 convolution layer          \n",
    "modal.add(Conv2D(64, (3,3)))\n",
    "modal.add(Activation(\"relu\"))\n",
    "model.add(MaxPooling2D(pool_size(2,2))\n",
    "\n",
    "\n",
    "##creating 3 convolution layer        \n",
    "modal.add(Conv2D(64, (3,3)))\n",
    "modal.add(Activation(\"relu\"))\n",
    "model.add(MaxPooling2D(pool_size(2,2))          "
   ]
  },
  {
   "cell_type": "code",
   "execution_count": null,
   "id": "7c056ff3-b24f-4507-b952-ad3512d04b77",
   "metadata": {},
   "outputs": [],
   "source": []
  }
 ],
 "metadata": {
  "kernelspec": {
   "display_name": "Python 3 (ipykernel)",
   "language": "python",
   "name": "python3"
  },
  "language_info": {
   "codemirror_mode": {
    "name": "ipython",
    "version": 3
   },
   "file_extension": ".py",
   "mimetype": "text/x-python",
   "name": "python",
   "nbconvert_exporter": "python",
   "pygments_lexer": "ipython3",
   "version": "3.11.7"
  }
 },
 "nbformat": 4,
 "nbformat_minor": 5
}
